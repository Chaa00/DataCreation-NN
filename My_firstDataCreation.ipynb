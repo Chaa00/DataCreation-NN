{
  "nbformat": 4,
  "nbformat_minor": 0,
  "metadata": {
    "colab": {
      "name": "My_firstDataCreation.ipynb",
      "provenance": [],
      "authorship_tag": "ABX9TyN0y2m0Br7lHJdqCjq7QnyV",
      "include_colab_link": true
    },
    "kernelspec": {
      "name": "python3",
      "display_name": "Python 3"
    }
  },
  "cells": [
    {
      "cell_type": "markdown",
      "metadata": {
        "id": "view-in-github",
        "colab_type": "text"
      },
      "source": [
        "<a href=\"https://colab.research.google.com/github/Chaa00/DataCreation-NN/blob/main/My_firstDataCreation.ipynb\" target=\"_parent\"><img src=\"https://colab.research.google.com/assets/colab-badge.svg\" alt=\"Open In Colab\"/></a>"
      ]
    },
    {
      "cell_type": "code",
      "metadata": {
        "id": "8z58kiNhyUA-"
      },
      "source": [
        "import numpy as np \n",
        "import tensorflow as tf \n",
        "from tensorflow import keras \n",
        "from random import randint\n",
        "from sklearn.preprocessing import StandardScaler\n",
        "from sklearn.preprocessing import MinMaxScaler\n",
        "from sklearn.utils import shuffle \n"
      ],
      "execution_count": 6,
      "outputs": []
    },
    {
      "cell_type": "code",
      "metadata": {
        "id": "SfVrj8WdzfsD"
      },
      "source": [
        "X_train=[]\n",
        "y_train=[]\n",
        "\n",
        "\n",
        "\n",
        "for i in range (50):\n",
        "  young_people=np.random.randint(13,64) #only 5% of young people are affected \n",
        "  X_train.append(young_people)\n",
        "  y_train.append(1)\n",
        "  old_people=np.random.randint(65,99)  #only 5% of old_people are not affected \n",
        "  X_train.append(old_people)\n",
        "  y_train.append(0)\n",
        "\n",
        "\n",
        "\n",
        "for i in range (1000):\n",
        "  young_people=np.random.randint(13,64) # 95% of young people are not affected \n",
        "  X_train.append(young_people)\n",
        "  y_train.append(0)\n",
        "  old_people=np.random.randint(65,99)  # 95% of old_people are affected \n",
        "  X_train.append(old_people)\n",
        "  y_train.append(1)\n",
        "\n",
        "def result(x):\n",
        "    if (y_train[x]==0):\n",
        "      print(\"not affected\")\n",
        "    else: \n",
        "      print(\"affected\")\n"
      ],
      "execution_count": 60,
      "outputs": []
    },
    {
      "cell_type": "code",
      "metadata": {
        "colab": {
          "base_uri": "https://localhost:8080/"
        },
        "id": "C0VvayV_3Ett",
        "outputId": "81c04995-6137-42c4-84dc-0b7556f2d66a"
      },
      "source": [
        "print(X_train[100])\n",
        "print(y_train[100])\n",
        "result(100)"
      ],
      "execution_count": 49,
      "outputs": [
        {
          "output_type": "stream",
          "text": [
            "16\n",
            "0\n",
            "not affected\n"
          ],
          "name": "stdout"
        }
      ]
    },
    {
      "cell_type": "code",
      "metadata": {
        "id": "ksI6OlbK7Koc"
      },
      "source": [
        "#Data processing:\n",
        "#we need to convert all lists to numpu arrays \n",
        "X_train=np.array(X_train)\n",
        "y_train=np.array(y_train)\n",
        "# we need now to shuffle the list \n",
        "X_train,y_train=shuffle(X_train,y_train)"
      ],
      "execution_count": 61,
      "outputs": []
    },
    {
      "cell_type": "code",
      "metadata": {
        "id": "8UroBxQq80Z9"
      },
      "source": [
        "#Normalizing our dataset \n",
        "Scaler=MinMaxScaler(feature_range=(0, 1), copy=True)\n",
        "X_train=Scaler.fit_transform(X_train.reshape(-1, 1))"
      ],
      "execution_count": 62,
      "outputs": []
    },
    {
      "cell_type": "code",
      "metadata": {
        "colab": {
          "base_uri": "https://localhost:8080/"
        },
        "id": "2FjWmIM53kjF",
        "outputId": "9d5a4cc6-719e-49e7-d042-79b97abccd58"
      },
      "source": [
        "print(X_train[0])"
      ],
      "execution_count": 63,
      "outputs": [
        {
          "output_type": "stream",
          "text": [
            "[0.94117647]\n"
          ],
          "name": "stdout"
        }
      ]
    },
    {
      "cell_type": "code",
      "metadata": {
        "id": "lYI9r0sD-Y9k"
      },
      "source": [
        "#building our model Neural Network \n",
        "from tensorflow.keras.models import Sequential\n",
        "from tensorflow.keras.layers import Activation\n",
        "from tensorflow.keras.layers import Dense\n",
        "from tensorflow.keras.optimizers import Adam\n",
        "from tensorflow.keras.metrics import categorical_crossentropy "
      ],
      "execution_count": 72,
      "outputs": []
    },
    {
      "cell_type": "code",
      "metadata": {
        "id": "v7QR-r5Q-fHT"
      },
      "source": [
        "'''\n",
        "physical_devices = tf.config.experimental.list_physical_devices('GPU')\n",
        "print(\"Num GPUs Available: \", len(physical_devices))\n",
        "tf.config.experimental.set_memory_growth(physical_devices[0], True)\n",
        "'''"
      ],
      "execution_count": null,
      "outputs": []
    },
    {
      "cell_type": "code",
      "metadata": {
        "id": "1c5o2sfz-vbb"
      },
      "source": [
        "model=tf.keras.models.Sequential([\n",
        "Dense(30,input_shape=(1,),activation='relu'),\n",
        "Dense(10,activation='relu'),\n",
        "Dense(2,activation='softmax')])"
      ],
      "execution_count": 74,
      "outputs": []
    },
    {
      "cell_type": "code",
      "metadata": {
        "colab": {
          "base_uri": "https://localhost:8080/"
        },
        "id": "5euAzDmoBi9s",
        "outputId": "e47571ac-0491-4ea1-db22-b4c6408c3c42"
      },
      "source": [
        "model.summary()"
      ],
      "execution_count": 75,
      "outputs": [
        {
          "output_type": "stream",
          "text": [
            "Model: \"sequential_2\"\n",
            "_________________________________________________________________\n",
            "Layer (type)                 Output Shape              Param #   \n",
            "=================================================================\n",
            "dense (Dense)                (None, 30)                60        \n",
            "_________________________________________________________________\n",
            "dense_1 (Dense)              (None, 10)                310       \n",
            "_________________________________________________________________\n",
            "dense_2 (Dense)              (None, 2)                 22        \n",
            "=================================================================\n",
            "Total params: 392\n",
            "Trainable params: 392\n",
            "Non-trainable params: 0\n",
            "_________________________________________________________________\n"
          ],
          "name": "stdout"
        }
      ]
    },
    {
      "cell_type": "code",
      "metadata": {
        "colab": {
          "base_uri": "https://localhost:8080/"
        },
        "id": "Tdigxl0xBnfr",
        "outputId": "f3295a84-3ccc-4eda-8d71-6b664a859e11"
      },
      "source": [
        "model.compile(optimizer='adam',loss='sparse_categorical_crossentropy',metrics=['accuracy'] )\n",
        "history=model.fit(X_train,y_train,epochs=30)"
      ],
      "execution_count": 81,
      "outputs": [
        {
          "output_type": "stream",
          "text": [
            "Epoch 1/30\n",
            "66/66 [==============================] - 0s 990us/step - loss: 0.2512 - accuracy: 0.9481\n",
            "Epoch 2/30\n",
            "66/66 [==============================] - 0s 968us/step - loss: 0.2500 - accuracy: 0.9524\n",
            "Epoch 3/30\n",
            "66/66 [==============================] - 0s 996us/step - loss: 0.2496 - accuracy: 0.9524\n",
            "Epoch 4/30\n",
            "66/66 [==============================] - 0s 991us/step - loss: 0.2492 - accuracy: 0.9524\n",
            "Epoch 5/30\n",
            "66/66 [==============================] - 0s 973us/step - loss: 0.2484 - accuracy: 0.9524\n",
            "Epoch 6/30\n",
            "66/66 [==============================] - 0s 1ms/step - loss: 0.2489 - accuracy: 0.9524\n",
            "Epoch 7/30\n",
            "66/66 [==============================] - 0s 988us/step - loss: 0.2484 - accuracy: 0.9519\n",
            "Epoch 8/30\n",
            "66/66 [==============================] - 0s 975us/step - loss: 0.2484 - accuracy: 0.9524\n",
            "Epoch 9/30\n",
            "66/66 [==============================] - 0s 1ms/step - loss: 0.2477 - accuracy: 0.9524\n",
            "Epoch 10/30\n",
            "66/66 [==============================] - 0s 982us/step - loss: 0.2473 - accuracy: 0.9524\n",
            "Epoch 11/30\n",
            "66/66 [==============================] - 0s 1ms/step - loss: 0.2468 - accuracy: 0.9514\n",
            "Epoch 12/30\n",
            "66/66 [==============================] - 0s 1ms/step - loss: 0.2467 - accuracy: 0.9519\n",
            "Epoch 13/30\n",
            "66/66 [==============================] - 0s 1ms/step - loss: 0.2460 - accuracy: 0.9524\n",
            "Epoch 14/30\n",
            "66/66 [==============================] - 0s 1ms/step - loss: 0.2461 - accuracy: 0.9524\n",
            "Epoch 15/30\n",
            "66/66 [==============================] - 0s 973us/step - loss: 0.2461 - accuracy: 0.9524\n",
            "Epoch 16/30\n",
            "66/66 [==============================] - 0s 979us/step - loss: 0.2453 - accuracy: 0.9510\n",
            "Epoch 17/30\n",
            "66/66 [==============================] - 0s 985us/step - loss: 0.2446 - accuracy: 0.9524\n",
            "Epoch 18/30\n",
            "66/66 [==============================] - 0s 1ms/step - loss: 0.2447 - accuracy: 0.9524\n",
            "Epoch 19/30\n",
            "66/66 [==============================] - 0s 1ms/step - loss: 0.2437 - accuracy: 0.9505\n",
            "Epoch 20/30\n",
            "66/66 [==============================] - 0s 963us/step - loss: 0.2437 - accuracy: 0.9524\n",
            "Epoch 21/30\n",
            "66/66 [==============================] - 0s 974us/step - loss: 0.2433 - accuracy: 0.9524\n",
            "Epoch 22/30\n",
            "66/66 [==============================] - 0s 1ms/step - loss: 0.2430 - accuracy: 0.9524\n",
            "Epoch 23/30\n",
            "66/66 [==============================] - 0s 1ms/step - loss: 0.2426 - accuracy: 0.9524\n",
            "Epoch 24/30\n",
            "66/66 [==============================] - 0s 1ms/step - loss: 0.2422 - accuracy: 0.9524\n",
            "Epoch 25/30\n",
            "66/66 [==============================] - 0s 1ms/step - loss: 0.2417 - accuracy: 0.9524\n",
            "Epoch 26/30\n",
            "66/66 [==============================] - 0s 1000us/step - loss: 0.2418 - accuracy: 0.9524\n",
            "Epoch 27/30\n",
            "66/66 [==============================] - 0s 1ms/step - loss: 0.2406 - accuracy: 0.9505\n",
            "Epoch 28/30\n",
            "66/66 [==============================] - 0s 986us/step - loss: 0.2409 - accuracy: 0.9500\n",
            "Epoch 29/30\n",
            "66/66 [==============================] - 0s 1ms/step - loss: 0.2406 - accuracy: 0.9524\n",
            "Epoch 30/30\n",
            "66/66 [==============================] - 0s 994us/step - loss: 0.2401 - accuracy: 0.9524\n"
          ],
          "name": "stdout"
        }
      ]
    }
  ]
}